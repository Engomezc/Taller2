{
 "cells": [
  {
   "cell_type": "code",
   "execution_count": 24,
   "id": "80eecc70-d738-4ace-bfad-b7beb33d83df",
   "metadata": {},
   "outputs": [],
   "source": [
    "# Importing required libraries\n",
    "\n",
    "import time\n",
    "import requests\n",
    "import select as something\n",
    "\n",
    "from bs4 import BeautifulSoup\n",
    "from selenium import webdriver\n",
    "from pymongo import MongoClient\n",
    "from selenium.webdriver.common.by import By\n",
    "from selenium.webdriver.common.keys import Keys"
   ]
  },
  {
   "cell_type": "code",
   "execution_count": 25,
   "id": "359407d3-e599-4a8a-ab75-b1d14b2d26ef",
   "metadata": {},
   "outputs": [],
   "source": [
    "# Creating a connection to MongoDB\n",
    "client = MongoClient('localhost', 27017)\n",
    "db = client['taller2']\n",
    "collection = db['elespectador']"
   ]
  },
  {
   "cell_type": "code",
   "execution_count": 26,
   "id": "ee459554-d990-44d4-93a1-364cd12d9e89",
   "metadata": {},
   "outputs": [],
   "source": [
    "# Base URL of the site to be analyzed\n",
    "SITE_URL = 'https://www.elespectador.com'"
   ]
  },
  {
   "cell_type": "code",
   "execution_count": 27,
   "id": "c417a980-35a2-4814-b3ca-0f97e5ff7674",
   "metadata": {},
   "outputs": [],
   "source": [
    "# Firefox web driver path\n",
    "# Download the driver for you S.O. here: https://github.com/mozilla/geckodriver/releases\n",
    "DRIVER_PATH = './geckodriver'"
   ]
  },
  {
   "cell_type": "code",
   "execution_count": 28,
   "id": "faba4122-ea72-4afc-9d4c-0ff99d87d101",
   "metadata": {},
   "outputs": [
    {
     "name": "stderr",
     "output_type": "stream",
     "text": [
      "C:\\Users\\eveli\\AppData\\Local\\Temp/ipykernel_11040/1910320475.py:2: DeprecationWarning: executable_path has been deprecated, please pass in a Service object\n",
      "  browser = webdriver.Firefox(executable_path = DRIVER_PATH)\n"
     ]
    }
   ],
   "source": [
    "# Creating a new firefox window\n",
    "browser = webdriver.Firefox(executable_path = DRIVER_PATH)"
   ]
  },
  {
   "cell_type": "code",
   "execution_count": 29,
   "id": "d45ace77-9897-4983-aabd-04a7d31f0224",
   "metadata": {},
   "outputs": [],
   "source": [
    "def make_request(browser, relative_path):\n",
    "    # Making the request and rendering the browser\n",
    "    browser.get(SITE_URL + relative_path)\n",
    "    \n",
    "    # Simulating vertical scrolling for handling lazy load\n",
    "    check_height = browser.execute_script('return document.body.scrollHeight;')\n",
    "    while True:\n",
    "        browser.execute_script('window.scrollTo(0, document.body.scrollHeight);')\n",
    "        time.sleep(3)\n",
    "        height = browser.execute_script('return document.body.scrollHeight;')\n",
    "        if height == check_height: \n",
    "            break \n",
    "        check_height = height\n",
    "    \n",
    "    # Getting HTML content and passing it to BeautifulSoup for scraping analysis\n",
    "    return BeautifulSoup(browser.page_source, 'html.parser')"
   ]
  },
  {
   "cell_type": "code",
   "execution_count": null,
   "id": "e893c42e-ca87-4e02-90ff-e0d9e3cda689",
   "metadata": {},
   "outputs": [
    {
     "name": "stderr",
     "output_type": "stream",
     "text": [
      "C:\\Users\\eveli\\AppData\\Local\\Temp/ipykernel_11040/846641386.py:3: DeprecationWarning: find_element_by_class_name is deprecated. Please use find_element(by=By.CLASS_NAME, value=name) instead\n",
      "  entrada = browser.find_element_by_class_name('Pagination-Input')\n"
     ]
    },
    {
     "name": "stdout",
     "output_type": "stream",
     "text": [
      "1\n",
      "2\n",
      "2\n",
      "1\n",
      "2\n",
      "2\n",
      "2\n",
      "2\n",
      "1\n",
      "1\n",
      "2\n",
      "2\n",
      "2\n",
      "1\n",
      "1\n"
     ]
    }
   ],
   "source": [
    "for x in range (1,32):\n",
    "    soup = make_request(browser, '/archivo/politica/')\n",
    "    entrada = browser.find_element_by_class_name('Pagination-Input')\n",
    "    entrada.send_keys(Keys.BACK_SPACE)\n",
    "    entrada.send_keys(Keys.BACK_SPACE)\n",
    "    entrada.send_keys(x)\n",
    "    entrada.send_keys(Keys.ENTER)\n",
    "    time.sleep(15)\n",
    "    \n",
    "# Finding the section where news are contained \n",
    "    layout = soup.find(class_ = 'Layout-flexAds')\n",
    "\n",
    "# Getting blocks from layout\n",
    "    blocks = layout.find_all(class_ = 'Container Block', recursive = True)\n",
    "    print(len(blocks))\n",
    "    \n",
    "# Finding and concatenating news cards\n",
    "    cards = blocks[0].find_all(class_ = 'Card_rowCardLeft')\n",
    "    len(cards)\n",
    "\n",
    "# Building a list with title and relative path of the news founded\n",
    "    news = []\n",
    "\n",
    "    for card in cards:\n",
    "        news.append({\n",
    "        'title': card.find('h2', class_ = 'Card-Title').find('a').get_text(),\n",
    "        'relative_path': card.find('h2', class_ = 'Card-Title').find('a')['href'],       \n",
    "    })\n",
    "    \n",
    "    news\n",
    "    \n",
    "    for n in news:\n",
    "        # Getting HTML content for each news page\n",
    "        soup = make_request(browser, n['relative_path'])\n",
    "\n",
    "        # Extracting news metadata\n",
    "        n['datetime'] = soup.find(class_ = 'ArticleHeader-Date').get_text()\n",
    "        n['author'] = soup.find(class_ = 'ACredit-Author').find('a').get_text()\n",
    "        n['summary'] = soup.find(class_ = 'ArticleHeader-Hook').find('div').get_text()\n",
    "        n['category'] = soup.find(class_ = 'Breadcrumb').find('a').get_text()\n",
    "\n",
    "        # Extracting and concatenating news full text\n",
    "        paragraphs = soup.find_all(class_ = 'font--secondary')\n",
    "        n['full_text'] = ' '.join([p.get_text() for p in paragraphs])\n",
    "\n",
    "    news"
   ]
  },
  {
   "cell_type": "code",
   "execution_count": null,
   "id": "86bc82aa-9fea-4e42-8255-701e94e663dc",
   "metadata": {},
   "outputs": [],
   "source": [
    "# Storing extracted information for further analysis\n",
    "collection.insert_many(news)"
   ]
  }
 ],
 "metadata": {
  "kernelspec": {
   "display_name": "Python 3 (ipykernel)",
   "language": "python",
   "name": "python3"
  },
  "language_info": {
   "codemirror_mode": {
    "name": "ipython",
    "version": 3
   },
   "file_extension": ".py",
   "mimetype": "text/x-python",
   "name": "python",
   "nbconvert_exporter": "python",
   "pygments_lexer": "ipython3",
   "version": "3.9.7"
  }
 },
 "nbformat": 4,
 "nbformat_minor": 5
}
